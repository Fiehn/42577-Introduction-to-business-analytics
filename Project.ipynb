{
 "cells": [
  {
   "cell_type": "code",
   "execution_count": 227,
   "metadata": {},
   "outputs": [],
   "source": [
    "import pandas as pd\n",
    "import matplotlib.pyplot as plt\n",
    "from sklearn.cluster import KMeans\n",
    "from sklearn.preprocessing import StandardScaler\n",
    "from sklearn.pipeline import make_pipeline\n",
    "from sklearn.linear_model import LinearRegression\n",
    "from sklearn.linear_model import Ridge\n",
    "from sklearn.linear_model import Lasso\n",
    "from sklearn.model_selection import cross_val_score"
   ]
  },
  {
   "cell_type": "code",
   "execution_count": 228,
   "metadata": {},
   "outputs": [],
   "source": [
    "# Load the CSV file into a DataFrame\n",
    "df = pd.read_csv('EVChargingStationUsage.csv',low_memory=False)"
   ]
  },
  {
   "cell_type": "code",
   "execution_count": 229,
   "metadata": {},
   "outputs": [
    {
     "data": {
      "text/plain": [
       "County                             84665\n",
       "EVSE ID                            78948\n",
       "System S/N                         78948\n",
       "Model Number                       78948\n",
       "Driver Postal Code                  8402\n",
       "User ID                             7677\n",
       "Currency                            1788\n",
       "Ended By                             248\n",
       "Transaction Date (Pacific Time)      209\n",
       "Port Type                              9\n",
       "dtype: int64"
      ]
     },
     "execution_count": 229,
     "metadata": {},
     "output_type": "execute_result"
    }
   ],
   "source": [
    "df.isna().sum().sort_values(ascending=False)[df.isna().sum() > 0] # Check for missing values (We have a lot)"
   ]
  },
  {
   "cell_type": "code",
   "execution_count": 230,
   "metadata": {},
   "outputs": [],
   "source": [
    "# US county:\n",
    "# https://www.getzips.com/zip.htm -- determine the county of the zip code, however there is overlap in 94303, Thus: df[df['Postal Code']==94303]['Address 1'].unique()\n",
    "# From https://geocoding.geo.census.gov/geocoder/geographies\n",
    "# 3700 Middlefield Rd = Santa Clara\n",
    "# 1213 Newell Rd = Santa Clara\n",
    "# 1514 Walnut Dr = Santa Clara\n",
    "# 1520 Walnut Dr = Santa Clara\n",
    "# Therefore all of 94303 is in Santa Clara County so all the NaN values can be filled in with Santa Clara"
   ]
  },
  {
   "cell_type": "code",
   "execution_count": 231,
   "metadata": {},
   "outputs": [],
   "source": [
    "# This cleans up the data a bit\n",
    "df['Org Name'] = df['Org Name'].unique()[0] # There are multiple values in this column, but they are all the same with a space as the only difference\n",
    "df['MAC Address'] = df['MAC Address'].str.replace(':', '') # Clean up the MAC Address\n",
    "df['Station Name'] = df['Station Name'].str.replace('PALO ALTO CA / ', '').str.replace('#','').str.replace('  ',' ').str.replace(' ','_') # Clean up the Station Name\n",
    "df['Total Duration (m)'] = pd.to_timedelta(df['Total Duration (hh:mm:ss)']).dt.total_seconds()/60 # Convert the time to minutes\n",
    "df['Charging Time (m)'] = pd.to_timedelta(df['Charging Time (hh:mm:ss)']).dt.total_seconds()/60 # Convert the time to minutes\n",
    "df.drop(columns=['Total Duration (hh:mm:ss)', 'Charging Time (hh:mm:ss)'], inplace=True) # Drop the old columns\n",
    "df['Port Type'] = df['Port Type'].fillna(\"Level \" + df['Port Number'].astype(str)) # Fill in the missing values in Port Type with the value in Port Number\n",
    "df['Currency'] = df['Currency'].fillna('Unknown') # Fill in the missing values in Currency with Unknown (ASSUMPTIONS!)\n",
    "df['USD'] = df['Currency'] == 'USD' # Create a boolean column for USD\n",
    "df['Ended By'] = df['Ended By'].fillna('Unknown') # Fill in the missing values in Ended By with Unknown (ASSUMPTIONS!)\n",
    "df['County'] = df['County'].fillna('Santa Clara County') # Fill in the missing values in County with Santa Clara County (Based on the zip and address)\n",
    "df['Start Date'] = pd.to_datetime(df['Start Date']) # Convert the Start Date to a datetime object\n",
    "df['End Date'] = pd.to_datetime(df['End Date'],errors='coerce') # Convert the End Date to a datetime object\n",
    "df['Transaction Date (Pacific Time)'] = pd.to_datetime(df['Transaction Date (Pacific Time)'],errors='coerce').fillna(df['End Date']) # Convert the Transaction Date to a datetime object and fill in the missing values with the End Date (ASSUMPIONS!)"
   ]
  },
  {
   "cell_type": "code",
   "execution_count": 232,
   "metadata": {},
   "outputs": [],
   "source": [
    "df['Transaction Time (h)'] = df['Transaction Date (Pacific Time)'].dt.hour\n",
    "df['Day of Week'] = df['Transaction Date (Pacific Time)'].dt.dayofweek\n",
    "df['Day of Month'] = df['Transaction Date (Pacific Time)'].dt.day\n",
    "df['Start Date (h)'] = df['Start Date'].dt.hour\n",
    "df['End Date (h)'] = df['End Date'].dt.hour"
   ]
  },
  {
   "cell_type": "code",
   "execution_count": 233,
   "metadata": {},
   "outputs": [],
   "source": [
    "# Drop NA values for invalid Dates (ASSUMPTIONS!)\n",
    "df.dropna(subset=['Start Date', 'End Date', 'Transaction Date (Pacific Time)'], inplace=True)"
   ]
  },
  {
   "cell_type": "code",
   "execution_count": 234,
   "metadata": {},
   "outputs": [
    {
     "data": {
      "text/plain": [
       "System S/N            78948\n",
       "EVSE ID               78948\n",
       "Model Number          78948\n",
       "Driver Postal Code     8400\n",
       "User ID                7675\n",
       "dtype: int64"
      ]
     },
     "execution_count": 234,
     "metadata": {},
     "output_type": "execute_result"
    }
   ],
   "source": [
    "df.isna().sum().sort_values(ascending=False)[df.isna().sum() > 0] # Check for missing values (We have a lot)"
   ]
  },
  {
   "cell_type": "code",
   "execution_count": 235,
   "metadata": {},
   "outputs": [
    {
     "data": {
      "text/plain": [
       "System S/N            78948\n",
       "EVSE ID               78948\n",
       "Model Number          78948\n",
       "Driver Postal Code     3191\n",
       "User ID                2599\n",
       "dtype: int64"
      ]
     },
     "execution_count": 235,
     "metadata": {},
     "output_type": "execute_result"
    }
   ],
   "source": [
    "# We Should consider if 1. these columns are useful, 2. if they are useful, fill them with a new value (unknown, etc)\n",
    "df[df['Model Number'].isna()].isna().sum().sort_values(ascending=False)[df.isna().sum() > 0]"
   ]
  },
  {
   "cell_type": "code",
   "execution_count": 236,
   "metadata": {},
   "outputs": [
    {
     "data": {
      "text/plain": [
       "Index(['Station Name', 'MAC Address', 'Org Name', 'Start Date',\n",
       "       'Start Time Zone', 'End Date', 'End Time Zone',\n",
       "       'Transaction Date (Pacific Time)', 'Energy (kWh)', 'GHG Savings (kg)',\n",
       "       'Gasoline Savings (gallons)', 'Port Type', 'Port Number', 'Plug Type',\n",
       "       'EVSE ID', 'Address 1', 'City', 'State/Province', 'Postal Code',\n",
       "       'Country', 'Latitude', 'Longitude', 'Currency', 'Fee', 'Ended By',\n",
       "       'Plug In Event Id', 'Driver Postal Code', 'User ID', 'County',\n",
       "       'System S/N', 'Model Number', 'Total Duration (m)', 'Charging Time (m)',\n",
       "       'USD', 'Transaction Time (h)', 'Day of Week', 'Day of Month',\n",
       "       'Start Date (h)', 'End Date (h)'],\n",
       "      dtype='object')"
      ]
     },
     "execution_count": 236,
     "metadata": {},
     "output_type": "execute_result"
    }
   ],
   "source": [
    "df.columns # Check the columns to see what we have to work with"
   ]
  },
  {
   "cell_type": "code",
   "execution_count": 237,
   "metadata": {},
   "outputs": [
    {
     "data": {
      "text/plain": [
       "Start Date                         244762\n",
       "End Date                           244119\n",
       "Transaction Date (Pacific Time)    241042\n",
       "Energy (kWh)                       118061\n",
       "Plug In Event Id                    36836\n",
       "Total Duration (m)                  31024\n",
       "Charging Time (m)                   22473\n",
       "User ID                             21440\n",
       "GHG Savings (kg)                    15535\n",
       "Gasoline Savings (gallons)           6333\n",
       "Fee                                  1817\n",
       "Driver Postal Code                    984\n",
       "System S/N                             81\n",
       "MAC Address                            68\n",
       "Longitude                              64\n",
       "Latitude                               62\n",
       "EVSE ID                                51\n",
       "Station Name                           46\n",
       "Day of Month                           31\n",
       "Transaction Time (h)                   24\n",
       "Start Date (h)                         24\n",
       "End Date (h)                           24\n",
       "Address 1                              20\n",
       "Ended By                               16\n",
       "Model Number                           10\n",
       "Day of Week                             7\n",
       "Currency                                5\n",
       "Postal Code                             3\n",
       "End Time Zone                           3\n",
       "Start Time Zone                         3\n",
       "County                                  2\n",
       "Plug Type                               2\n",
       "Port Number                             2\n",
       "Port Type                               2\n",
       "USD                                     2\n",
       "City                                    1\n",
       "State/Province                          1\n",
       "Org Name                                1\n",
       "Country                                 1\n",
       "dtype: int64"
      ]
     },
     "execution_count": 237,
     "metadata": {},
     "output_type": "execute_result"
    }
   ],
   "source": [
    "df.nunique().sort_values(ascending=False) # Check the amount of unique values in each column"
   ]
  },
  {
   "cell_type": "markdown",
   "metadata": {},
   "source": [
    "There are a lot of unique values in the categorical sense, so it might be prudent to figure out what values to work with. Here is an initial list of suggestions\n",
    "* Energy (kWh)\n",
    "* Port Type\n",
    "* Plug Type\n",
    "* Postal Code (to indicate spatial location)\n",
    "* Currency (Perhaps binary conversion USD/Not USD)\n",
    "* Total Duration (m)\n",
    "* Charging Time (m)\n",
    "* Hour of Day\n",
    "* Day of Week\n",
    "* ?Maybe driver zipcode (There are over 900 and they are categorical)?\n",
    "\n",
    "Potential for interesting insights:\n",
    "* Model Number\n",
    "* Ended By\n",
    "* Fee\n",
    "* Driver Postal Code\n",
    "* Month"
   ]
  },
  {
   "cell_type": "code",
   "execution_count": 285,
   "metadata": {},
   "outputs": [],
   "source": [
    "df_working = df[['Transaction Time (h)', 'Port Type', 'Plug Type', 'Charging Time (m)', 'Energy (kWh)', 'Total Duration (m)', 'Day of Week', 'USD', 'Postal Code']] # Select the columns we want to work with"
   ]
  },
  {
   "cell_type": "code",
   "execution_count": 280,
   "metadata": {},
   "outputs": [],
   "source": [
    "df_working = pd.get_dummies(df_working, columns=['Port Type', 'Plug Type', 'Postal Code', 'Day of Week']) # One hot encode the data"
   ]
  }
 ],
 "metadata": {
  "kernelspec": {
   "display_name": "Python 3",
   "language": "python",
   "name": "python3"
  },
  "language_info": {
   "codemirror_mode": {
    "name": "ipython",
    "version": 3
   },
   "file_extension": ".py",
   "mimetype": "text/x-python",
   "name": "python",
   "nbconvert_exporter": "python",
   "pygments_lexer": "ipython3",
   "version": "3.11.4"
  }
 },
 "nbformat": 4,
 "nbformat_minor": 2
}
